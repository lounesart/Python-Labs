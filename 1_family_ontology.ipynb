{
  "cells": [
    {
      "cell_type": "markdown",
      "metadata": {
        "collapsed": true,
        "id": "LtwcKaff0BEK"
      },
      "source": [
        "# Ontologia powiązań rodzinnych\n",
        "\n",
        "Przykład z **AI for Beginners**\n",
        "\n",
        "W tym przykładzie weźmiemy na warsztat ontologię powiązań rodzinnych oraz prawdziwe drzewo genealogiczne, i zobaczymy jak można wykonać automatyczne wnioskowanie by znaleźć wszystkich krewnych.\n",
        "\n",
        "### Pobieranie drzewa geneealogicznego\n",
        "\n",
        "Jako przykład przyjmiemy drzewo genealogiczne [carskiej rodziny Romanowów](https://pl.wikipedia.org/wiki/Romanowowie). Najbardziej popularny format do opisu powiązań rodzinnych to [GEDCOM](https://pl.wikipedia.org/wiki/GEDCOM). Pobierzmy drzewo rodziny Romanowów w formacie GEDCOM."
      ]
    },
    {
      "cell_type": "markdown",
      "metadata": {
        "id": "Esy_xcJ40BEM"
      },
      "source": [
        "By użyć pliku GEDCOM, wykorzystamy bibliotekę `python-gedcom`:"
      ]
    },
    {
      "cell_type": "code",
      "execution_count": 1,
      "metadata": {
        "colab": {
          "base_uri": "https://localhost:8080/"
        },
        "id": "UHwv15g60BEN",
        "outputId": "a696cfce-cbdc-45f3-b2e1-0f6e813076fc"
      },
      "outputs": [
        {
          "output_type": "stream",
          "name": "stdout",
          "text": [
            "Looking in indexes: https://pypi.org/simple, https://us-python.pkg.dev/colab-wheels/public/simple/\n",
            "Collecting python-gedcom\n",
            "  Downloading python_gedcom-1.0.0-py2.py3-none-any.whl (35 kB)\n",
            "Installing collected packages: python-gedcom\n",
            "Successfully installed python-gedcom-1.0.0\n"
          ]
        }
      ],
      "source": [
        "import sys\n",
        "!{sys.executable} -m pip install python-gedcom"
      ]
    },
    {
      "cell_type": "markdown",
      "metadata": {
        "id": "cQwmb4u20BEN"
      },
      "source": [
        "Sparsujmy plik i pokażmy całą listę osobistości:"
      ]
    },
    {
      "cell_type": "code",
      "execution_count": 3,
      "metadata": {
        "id": "vl-R6uzM0BEO",
        "colab": {
          "base_uri": "https://localhost:8080/",
          "height": 322
        },
        "outputId": "072f23b8-f010-4dea-d636-5dc14a91f689"
      },
      "outputs": [
        {
          "output_type": "error",
          "ename": "FileNotFoundError",
          "evalue": "ignored",
          "traceback": [
            "\u001b[0;31m---------------------------------------------------------------------------\u001b[0m",
            "\u001b[0;31mFileNotFoundError\u001b[0m                         Traceback (most recent call last)",
            "\u001b[0;32m<ipython-input-3-632249b25d04>\u001b[0m in \u001b[0;36m<cell line: 5>\u001b[0;34m()\u001b[0m\n\u001b[1;32m      3\u001b[0m \u001b[0;32mfrom\u001b[0m \u001b[0mgedcom\u001b[0m\u001b[0;34m.\u001b[0m\u001b[0melement\u001b[0m\u001b[0;34m.\u001b[0m\u001b[0mfamily\u001b[0m \u001b[0;32mimport\u001b[0m \u001b[0mFamilyElement\u001b[0m\u001b[0;34m\u001b[0m\u001b[0;34m\u001b[0m\u001b[0m\n\u001b[1;32m      4\u001b[0m \u001b[0mg\u001b[0m \u001b[0;34m=\u001b[0m \u001b[0mParser\u001b[0m\u001b[0;34m(\u001b[0m\u001b[0;34m)\u001b[0m\u001b[0;34m\u001b[0m\u001b[0;34m\u001b[0m\u001b[0m\n\u001b[0;32m----> 5\u001b[0;31m \u001b[0mg\u001b[0m\u001b[0;34m.\u001b[0m\u001b[0mparse_file\u001b[0m\u001b[0;34m(\u001b[0m\u001b[0;34m'tsars.ged'\u001b[0m\u001b[0;34m)\u001b[0m\u001b[0;34m\u001b[0m\u001b[0;34m\u001b[0m\u001b[0m\n\u001b[0m",
            "\u001b[0;32m/usr/local/lib/python3.10/dist-packages/gedcom/parser.py\u001b[0m in \u001b[0;36mparse_file\u001b[0;34m(self, file_path, strict)\u001b[0m\n\u001b[1;32m    138\u001b[0m         \u001b[0mself\u001b[0m\u001b[0;34m.\u001b[0m\u001b[0m__root_element\u001b[0m \u001b[0;34m=\u001b[0m \u001b[0mRootElement\u001b[0m\u001b[0;34m(\u001b[0m\u001b[0;34m)\u001b[0m\u001b[0;34m\u001b[0m\u001b[0;34m\u001b[0m\u001b[0m\n\u001b[1;32m    139\u001b[0m \u001b[0;34m\u001b[0m\u001b[0m\n\u001b[0;32m--> 140\u001b[0;31m         \u001b[0mgedcom_file\u001b[0m \u001b[0;34m=\u001b[0m \u001b[0mopen\u001b[0m\u001b[0;34m(\u001b[0m\u001b[0mfile_path\u001b[0m\u001b[0;34m,\u001b[0m \u001b[0;34m'rb'\u001b[0m\u001b[0;34m)\u001b[0m\u001b[0;34m\u001b[0m\u001b[0;34m\u001b[0m\u001b[0m\n\u001b[0m\u001b[1;32m    141\u001b[0m         \u001b[0mline_number\u001b[0m \u001b[0;34m=\u001b[0m \u001b[0;36m1\u001b[0m\u001b[0;34m\u001b[0m\u001b[0;34m\u001b[0m\u001b[0m\n\u001b[1;32m    142\u001b[0m         \u001b[0mlast_element\u001b[0m \u001b[0;34m=\u001b[0m \u001b[0mself\u001b[0m\u001b[0;34m.\u001b[0m\u001b[0mget_root_element\u001b[0m\u001b[0;34m(\u001b[0m\u001b[0;34m)\u001b[0m\u001b[0;34m\u001b[0m\u001b[0;34m\u001b[0m\u001b[0m\n",
            "\u001b[0;31mFileNotFoundError\u001b[0m: [Errno 2] No such file or directory: 'tsars.ged'"
          ]
        }
      ],
      "source": [
        "from gedcom.parser import Parser\n",
        "from gedcom.element.individual import IndividualElement\n",
        "from gedcom.element.family import FamilyElement\n",
        "g = Parser()\n",
        "g.parse_file('tsars.ged')"
      ]
    },
    {
      "cell_type": "code",
      "execution_count": null,
      "metadata": {
        "id": "uSuW_fK40BEO",
        "scrolled": true
      },
      "outputs": [],
      "source": [
        "d = g.get_element_dictionary()\n",
        "[ (k,v.get_name()) for k,v in d.items() if isinstance(v,IndividualElement)] # wyświetlmy wszystkie osobistości"
      ]
    },
    {
      "cell_type": "markdown",
      "metadata": {
        "id": "bsKaRbOG0BEO"
      },
      "source": [
        "W poniższy sposób możemy uzyskać informację o rodzinach. Zwróci nam to **identifikatory** (musimy je skonwertować na imiona jeśli chcemy by było to bardziej czytelne)"
      ]
    },
    {
      "cell_type": "code",
      "execution_count": null,
      "metadata": {
        "id": "QRmZd4ZP0BEO"
      },
      "outputs": [],
      "source": [
        "d = g.get_element_dictionary()\n",
        "[ (k,[x.get_value() for x in v.get_child_elements()]) for k,v in d.items() if isinstance(v,FamilyElement)]"
      ]
    },
    {
      "cell_type": "markdown",
      "metadata": {
        "id": "kl-SeB9Z0BEP"
      },
      "source": [
        "### Ontologia rodziny\n",
        "\n",
        "Następnie spójrzmy na [ontologię rodziny](https://raw.githubusercontent.com/blokhin/genealogical-trees/master/data/header.ttl) zdefiniowaną jako trójki (triplets) w Semantic Webie. Ontologia ta definiuje takie powiązania jak `isUncleOf`, `isCousinOf`, i wiele innych. Wszystkie te powiązania są zdefiniowane w kontekście bazowych predykatów `isMotherOf`, `isFatherOf`, `isBrotherOf` i `isSisterOf`. Użyjemy automatycznego wnioskowania by wydedukować wszystkie inne powiązania w tej ontologii.\n",
        "\n",
        "Poniżej mamy definicję właściwości `isAuntOf`, która jest zdefiniowana jako kompozycja `isSisterOf` i `isParentOf` (*Jako że ciocia to siostra któregoś z rodziców*).\n",
        "\n",
        "```\n",
        "fhkb:isAuntOf a owl:ObjectProperty ;\n",
        "    rdfs:domain fhkb:Woman ;\n",
        "    rdfs:range fhkb:Person ;\n",
        "    owl:propertyChainAxiom ( fhkb:isSisterOf fhkb:isParentOf ) .\n",
        "```"
      ]
    },
    {
      "cell_type": "markdown",
      "metadata": {
        "id": "GDdPOfTq0BEP"
      },
      "source": [
        "### Przygotowanie ontologii do wnioskowania\n",
        "\n",
        "Dla ułatwienia, stworzymy jeden plik z ontologią który będzie zawierał oryginalne reguły z ontologii rodziny oraz fakty o osobistościach z naszego pliku GEDCOM. Przejdziemy przez plik GEDCOM wyekstrahujemy informacje o rodzinach i osobistościach i skonwertujemy je do trójek."
      ]
    },
    {
      "cell_type": "code",
      "execution_count": null,
      "metadata": {
        "id": "NJZSRthM0BEP"
      },
      "outputs": [],
      "source": [
        "gedcom_dict = g.get_element_dictionary()\n",
        "individuals, marriages = {}, {} # nowe słowniki osób i małżeństw\n",
        "\n",
        "# funkcja konwertująca pobrany termin do identyfikatora\n",
        "def term2id(el):\n",
        "    return \"i\" + el.get_pointer().replace('@', '').lower()\n",
        "\n",
        "# otwieramy plik\n",
        "out = open(\"onto.ttl\",\"a\")\n",
        "\n",
        "# główna pętla przechodząca przez plik\n",
        "for k, v in gedcom_dict.items(): # dla każdego elementu słownika\n",
        "    if isinstance(v,IndividualElement): # jeśli wartość elementu to osoba\n",
        "        children, siblings = set(), set() # utwórz dwa zbiory: dzieci i rodzeństwa\n",
        "        idx = term2id(v)\n",
        "\n",
        "        title = v.get_name()[0] + \" \" + v.get_name()[1]\n",
        "        title = title.replace('\"', '').replace('[', '').replace(']', '').replace('(', '').replace(')', '').strip()\n",
        "\n",
        "        own_families = g.get_families(v, 'FAMS') # pobierz informacje o rodzinach posiadanych\n",
        "        for fam in own_families: # dla każdej rodziny\n",
        "            children |= set(term2id(i) for i in g.get_family_members(fam, \"CHIL\")) # dodaj dzieci\n",
        "\n",
        "        parent_families = g.get_families(v, 'FAMC') # pobierz informacje o rodzinach z których się pochodzi\n",
        "        if len(parent_families): # jeśli jest o takiej rodzinie informacja (zauważ, że nie uwzględniona jest tu adopcja)\n",
        "            for member in g.get_family_members(parent_families[0], \"CHIL\"):  # każdą osobę która jest dzieckiem\n",
        "                if member.get_pointer() == v.get_pointer(): # sprawdź czy nie jest tą osobą którą analizujemy\n",
        "                    continue\n",
        "                siblings.add(term2id(member)) # dodaj jako rodzeństwo\n",
        "\n",
        "        #dodanie pełnej informacji o osobie do nowego słownika\n",
        "        if idx in individuals:\n",
        "            children |= individuals[idx].get('children', set())\n",
        "            siblings |= individuals[idx].get('siblings', set())\n",
        "        individuals[idx] = {'sex': v.get_gender().lower(), 'children': children, 'siblings': siblings, 'title': title}\n",
        "\n",
        "    elif isinstance(v,FamilyElement): # jeśli wartość elementu to rodzina\n",
        "        wife, husb, children = None, None, set()\n",
        "        children = set(term2id(i) for i in g.get_family_members(v, \"CHIL\")) # dodaj dzieci\n",
        "\n",
        "        # wyekstrahuj informację o żonie (sprawdź czy jest w nowym słowniku i dodaj odpowiednie info o dzieciach)\n",
        "        try:\n",
        "            wife = g.get_family_members(v, \"WIFE\")[0]\n",
        "            wife = term2id(wife)\n",
        "            if wife in individuals:\n",
        "                individuals[wife]['children'] |= children\n",
        "            else:\n",
        "                individuals[wife] = {'children': children}\n",
        "        except IndexError:\n",
        "            pass\n",
        "\n",
        "        # wyekstrahuj informację o mężu (sprawdź czy jest w nowym słowniku i dodaj odpowiednie info o dzieciach)\n",
        "        try:\n",
        "            husb = g.get_family_members(v, \"HUSB\")[0]\n",
        "            husb = term2id(husb)\n",
        "            if husb in individuals:\n",
        "                individuals[husb]['children'] |= children\n",
        "            else:\n",
        "                individuals[husb] = {'children': children}\n",
        "        except IndexError:\n",
        "            pass\n",
        "\n",
        "        # wykestrahuj informację o małżeństwie\n",
        "        if wife and husb:\n",
        "            marriages[wife + husb] = (term2id(v), wife, husb)\n",
        "\n",
        "# dla każdej osoby w nowym słowniku\n",
        "for idx, val in individuals.items():\n",
        "    added_terms = ''\n",
        "    if val['sex'] == 'f':\n",
        "        parent_predicate, sibl_predicate = \"isMotherOf\", \"isSisterOf\" # dodaj predykaty charakterystyczne dla kobiet\n",
        "    else:\n",
        "        parent_predicate, sibl_predicate = \"isFatherOf\", \"isBrotherOf\" # dodaj predykaty charakterystyczne dla mężczyzn\n",
        "    # dodaj predykaty związane z posiadaniem dzieci\n",
        "    if len(val['children']):\n",
        "        added_terms += \" ;\\n    fhkb:\" + parent_predicate + \" \" + \", \".join([\"fhkb:\" + i for i in val['children']])\n",
        "    # dodaj predykaty związane z posiadaniem rodzeństwa\n",
        "    if len(val['siblings']):\n",
        "        added_terms += \" ;\\n    fhkb:\" + sibl_predicate + \" \" + \", \".join([\"fhkb:\" + i for i in val['siblings']])\n",
        "    out.write(\"fhkb:%s a owl:NamedIndividual, owl:Thing%s ;\\n    rdfs:label \\\"%s\\\" .\\n\" % (idx, added_terms, val['title']))\n",
        "\n",
        "for k, v in marriages.items():\n",
        "    out.write(\"fhkb:%s a owl:NamedIndividual, owl:Thing ;\\n    fhkb:hasFemalePartner fhkb:%s ;\\n    fhkb:hasMalePartner fhkb:%s .\\n\" % v)\n",
        "\n",
        "out.write(\"[] a owl:AllDifferent ;\\n    owl:distinctMembers (\")\n",
        "for idx in individuals.keys():\n",
        "    out.write(\"    fhkb:\" + idx)\n",
        "for k, v in marriages.items():\n",
        "    out.write(\"    fhkb:\" + v[0])\n",
        "out.write(\"    ) .\")\n",
        "out.close()"
      ]
    },
    {
      "cell_type": "markdown",
      "metadata": {
        "id": "MDdoqC2w0BEQ"
      },
      "source": [
        "**Zadanie 2**\n",
        "\n",
        "Powyższa pętla nie jest kompletna, należy do niej dodać parę elementów (oznaczone są one kropkami ...). Dopasuje poniższe elementy w odpowiednie miejsca:\n",
        "\n",
        "    1. \"isMotherOf\", \"isSisterOf\"\n",
        "    2. FamilyElement\n",
        "    3. \"isFatherOf\", \"isBrotherOf\"\n",
        "    4. IndividualElement\n",
        "    5. member.get_pointer() == v.get_pointer()"
      ]
    },
    {
      "cell_type": "markdown",
      "metadata": {
        "id": "zE9IvcPm0BEQ"
      },
      "source": [
        "### Wnioskowanie\n",
        "\n",
        "Teraz chcemy wkorzystać ontologię do wnioskowania i wyszukiwań. Użyjemy [RDFLib](https://github.com/RDFLib), bibilioteki do czytania grafów RDF, przeszukiwania ich itd.\n",
        "\n",
        "Do wnioskowania, użyjemy biblioteki [OWL-RL](https://github.com/RDFLib/OWL-RL), która pozwala zbudować **domknięcie** grafu RDF (najkrótszą relację przechodznią między dwoma węzłami), czyli dodać wszystkie możliwe powiązania które mogą być wywnioskowane."
      ]
    },
    {
      "cell_type": "code",
      "execution_count": null,
      "metadata": {
        "id": "YSL1xE6k0BER"
      },
      "outputs": [],
      "source": [
        "!{sys.executable} -m pip install rdflib\n",
        "!{sys.executable} -m pip install git+https://github.com/RDFLib/OWL-RL.git"
      ]
    },
    {
      "cell_type": "markdown",
      "metadata": {
        "id": "45x6sLHf0BER"
      },
      "source": [
        "Otwórzmy plik z ontologią i sprawdźmy ile trójek zawiera:"
      ]
    },
    {
      "cell_type": "code",
      "execution_count": null,
      "metadata": {
        "id": "wPWRzYIF0BER"
      },
      "outputs": [],
      "source": [
        "import rdflib\n",
        "from owlrl import DeductiveClosure, OWLRL_Extension\n",
        "\n",
        "g = rdflib.Graph()\n",
        "g.parse(\"onto.ttl\", format=\"turtle\")\n",
        "\n",
        "print(\"Triplets found:%d\" % len(g))"
      ]
    },
    {
      "cell_type": "markdown",
      "metadata": {
        "id": "7FwcOOc10BER"
      },
      "source": [
        "Zbudujmy domknięcie grafu i sprawdźmy jak liczba trójek wzrosła:"
      ]
    },
    {
      "cell_type": "code",
      "execution_count": null,
      "metadata": {
        "id": "TJX7F07o0BER"
      },
      "outputs": [],
      "source": [
        "DeductiveClosure(OWLRL_Extension).expand(g)\n",
        "print(\"Triplets after inference:%d\" % len(g))"
      ]
    },
    {
      "cell_type": "markdown",
      "metadata": {
        "id": "bedjPiDF0BER"
      },
      "source": [
        "### Poszukiwania krewnych\n",
        "\n",
        "Możemy przeszukać graf by zobaczyć różne powiązania między ludźmi. Możemy użyć języka **SPARQL** razem z metodą `query`. Zobaczmy wszystkich **wujów** w naszym rodzinnym drzewie:"
      ]
    },
    {
      "cell_type": "code",
      "execution_count": null,
      "metadata": {
        "id": "8-bzPkYc0BER"
      },
      "outputs": [],
      "source": [
        "qres = g.query(\n",
        "    \"\"\"SELECT DISTINCT ?aname ?bname\n",
        "       WHERE {\n",
        "          ?a fhkb:isUncleOf ?b .\n",
        "          ?a rdfs:label ?aname .\n",
        "          ?b rdfs:label ?bname .\n",
        "       }\"\"\")\n",
        "\n",
        "for row in qres:\n",
        "    print(\"%s is uncle of %s\" % row)"
      ]
    },
    {
      "cell_type": "markdown",
      "metadata": {
        "id": "6zTOVA1k0BES"
      },
      "source": [
        "**Zadanie 3**\n",
        "\n",
        "Sprawdź za pomocą zapytania SPARQL wszystkich **przodków** w rodzinie (przejrzyj plik z ontologią by znaleźć odpowiednią nazwę relacji)"
      ]
    },
    {
      "cell_type": "code",
      "execution_count": null,
      "metadata": {
        "id": "yZiWo9ty0BES"
      },
      "outputs": [],
      "source": [
        "qres = g.query(\n",
        "    \"\"\"SELECT DISTINCT ?aname ?bname\n",
        "       WHERE {\n",
        "          ?a fhkb:isAncestorOf ?b .\n",
        "          ?a rdfs:label ?aname .\n",
        "          ?b rdfs:label ?bname .\n",
        "       }\"\"\")\n",
        "\n",
        "for row in qres:\n",
        "    print(\"%s is ancestor of %s\" % row)"
      ]
    }
  ],
  "metadata": {
    "colab": {
      "provenance": []
    },
    "interpreter": {
      "hash": "86193a1ab0ba47eac1c69c1756090baa3b420b3eea7d4aafab8b85f8b312f0c5"
    },
    "kernelspec": {
      "display_name": "Python 3 (ipykernel)",
      "language": "python",
      "name": "python3"
    },
    "language_info": {
      "codemirror_mode": {
        "name": "ipython",
        "version": 3
      },
      "file_extension": ".py",
      "mimetype": "text/x-python",
      "name": "python",
      "nbconvert_exporter": "python",
      "pygments_lexer": "ipython3",
      "version": "3.10.9"
    }
  },
  "nbformat": 4,
  "nbformat_minor": 0
}