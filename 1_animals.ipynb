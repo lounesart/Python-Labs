{
  "cells": [
    {
      "cell_type": "markdown",
      "metadata": {
        "collapsed": true,
        "id": "jGWzjsxivNjE"
      },
      "source": [
        "# Prosta implementacja systemu eksperckiego\n",
        "\n",
        "Przykład z **AI for Beginners Curriculum**\n",
        "\n",
        "Zaimplementujemy prosty system ekspercki do rozpoznawania zwierząt na podstawie cech fizycznych. System może być zilustrowany przez następujące drzewo (jest to drzewo częściowe, łatwo można dodać nowe reguły):\n",
        "\n",
        "![](https://github.com/microsoft/AI-For-Beginners/blob/main/lessons/2-Symbolic/images/AND-OR-Tree.png?raw=true)"
      ]
    },
    {
      "cell_type": "markdown",
      "metadata": {
        "id": "MVz3n80nvNjG"
      },
      "source": [
        "## Nasz własny system ekspercki z wnioskowaniem w tył\n",
        "\n",
        "Zdefiniujmy prosty język do reprezentacji wiedzy bazujący na regułach. Użyjemy klas pythonowych jako słów kluczowych potrzebnych do zdefiniowania reguł. Powinny być trzy typy klas:\n",
        "* `Ask` reprezentuje pytanie, które musi byćzadane użytkownikowi.Zawiera zbiór potencjalnych odpowiedzi.\n",
        "* `If` reprezentuje regułę, jest to jedynie opakowanie przechowujące zawartość reguły\n",
        "* `AND`/`OR` to klasy reprezentujące gałęzie AND/OR w drzewie. Przechowują jedynie listę argumentów. Dla uproszczenia, cała funkcjonalność jest zdefiniowana w klasie bazowej `Content`"
      ]
    },
    {
      "cell_type": "code",
      "execution_count": null,
      "metadata": {
        "id": "yLbo45IUvNjH"
      },
      "outputs": [],
      "source": [
        "class Ask():\n",
        "    def __init__(self,choices=['y','n']):\n",
        "        self.choices = choices\n",
        "    def ask(self):\n",
        "        if max([len(x) for x in self.choices])>1:\n",
        "            for i,x in enumerate(self.choices):\n",
        "                print(\"{0}. {1}\".format(i,x),flush=True)\n",
        "            x = int(input())\n",
        "            return self.choices[x]\n",
        "        else:\n",
        "            print(\"/\".join(self.choices),flush=True)\n",
        "            return input()\n",
        "\n",
        "class Content():\n",
        "    def __init__(self,x):\n",
        "        self.x=x\n",
        "\n",
        "class If(Content):\n",
        "    pass\n",
        "\n",
        "class AND(Content):\n",
        "    pass\n",
        "\n",
        "class OR(Content):\n",
        "    pass"
      ]
    },
    {
      "cell_type": "markdown",
      "metadata": {
        "id": "oE32MSq_vNjI"
      },
      "source": [
        "W naszym systemie, pamięć robocza będzie zawierać listę **faktów** jako **pary atrybut-wartość**. Baza wiedzy jest zdefiniowana jako wielki słownik który przypisuje akcje (nowe fakty które powinny być wstawione do pamięci roboczej) do warunków, wyrażonych jako operacje AND-OR. Niektóre fakty mogą być także uzyskane poprzez zapytanie użytkownika (`Ask`).\n",
        "<a id='animal_rules'></a>"
      ]
    },
    {
      "cell_type": "code",
      "execution_count": null,
      "metadata": {
        "id": "UlYIBMWMvNjI"
      },
      "outputs": [],
      "source": [
        "rules = {\n",
        "    'default': Ask(['y','n']),\n",
        "    'color' : Ask(['red-brown','black and white','other']),\n",
        "    'pattern' : Ask(['dark stripes','dark spots']),\n",
        "    'mammal': If(OR(['hair','gives milk'])),\n",
        "    'carnivor': If(OR([AND(['sharp teeth','claws','forward-looking eyes']),'eats meat'])),\n",
        "    'ungulate': If(['mammal',OR(['has hooves','chews cud'])]),\n",
        "    'bird': If(OR(['feathers',AND(['flies','lies eggs'])])),\n",
        "    'animal:monkey' : If(['mammal','carnivor','color:red-brown','pattern:dark spots']),\n",
        "    'animal:tiger' : If(['mammal','carnivor','color:red-brown','pattern:dark stripes']),\n",
        "    'animal:giraffe' : If(['ungulate','long neck','long legs','pattern:dark spots']),\n",
        "    'animal:zebra' : If(['ungulate','pattern:dark stripes']),\n",
        "    'animal:ostrich' : If(['bird','long nech','color:black and white','cannot fly']),\n",
        "    'animal:pinguin' : If(['bird','swims','color:black and white','cannot fly']),\n",
        "    'animal:albatross' : If(['bird','flies well'])\n",
        "}"
      ]
    },
    {
      "cell_type": "markdown",
      "metadata": {
        "id": "_lZ4CITbvNjJ"
      },
      "source": [
        "By wykonać wnioskowanie w tył, zdefiniujmy klasę `Knowledgebase`. Będzie ona zawierać:\n",
        "* pamięć roboaczą `memory` - słownik który mapuje atrybuty z wartościami\n",
        "* Bazę wiedzy `rules` w powyższym formacie\n",
        "\n",
        "Dwie główne metody to:\n",
        "* `get` by uzyskać wartość atrybutu, wykonując wnioskowaniem o ile to konieczne. Np. `get('color')` zwróci wartość koloru (zapyta jeśli będzie to konieczne, i przechowa wartość w pamięci roboczej do późniejszego użycia). Jeśli zapytamy `get('color:blue')`, zapyta o kolor, i zwróci wartość `y`/`n` w zależności od koloru.\n",
        "* `eval` wykonuje właściwe wnioskowanie, czyli przechodzi drzewo AND/OR, ewaluuje podcele, etc."
      ]
    },
    {
      "cell_type": "code",
      "execution_count": null,
      "metadata": {
        "id": "dsov-oUWvNjJ"
      },
      "outputs": [],
      "source": [
        "class KnowledgeBase():\n",
        "    def __init__(self,rules):\n",
        "        self.rules = rules\n",
        "        self.memory = {}\n",
        "\n",
        "    def get(self,name):\n",
        "        if ':' in name:\n",
        "            k,v = name.split(':')\n",
        "            vv = self.get(k)\n",
        "            return 'y' if v==vv else 'n'\n",
        "        if name in self.memory.keys():\n",
        "            return self.memory[name]\n",
        "        for fld in self.rules.keys():\n",
        "            if fld==name or fld.startswith(name+\":\"):\n",
        "                value = 'y' if fld==name else fld.split(':')[1]\n",
        "                res = self.eval(self.rules[fld],field=name)\n",
        "                if res!='y' and res!='n' and value=='y':\n",
        "                    self.memory[name] = res\n",
        "                    return res\n",
        "                if res=='y':\n",
        "                    self.memory[name] = value\n",
        "                    return value\n",
        "        res = self.eval(self.rules['default'],field=name) # pole nieznalezione, użyj domyślnego\n",
        "        self.memory[name]=res\n",
        "        return res\n",
        "\n",
        "    def eval(self,expr,field=None):\n",
        "        if isinstance(expr,Ask):\n",
        "            print(field)\n",
        "            return expr.ask()\n",
        "        elif isinstance(expr,If):\n",
        "            return self.eval(expr.x)\n",
        "        elif isinstance(expr,AND) or isinstance(expr,list):\n",
        "            expr = expr.x if isinstance(expr,AND) else expr\n",
        "            for x in expr:\n",
        "                if self.eval(x)=='n':\n",
        "                    return 'n'\n",
        "            return 'y'\n",
        "        elif isinstance(expr,OR):\n",
        "            for x in expr.x:\n",
        "                if self.eval(x)=='y':\n",
        "                    return 'y'\n",
        "            return 'n'\n",
        "        elif isinstance(expr,str):\n",
        "            return self.get(expr)\n",
        "        else:\n",
        "            print(\"Unknown expr: {}\".format(expr))"
      ]
    },
    {
      "cell_type": "markdown",
      "metadata": {
        "id": "dbib9Gd_vNjK"
      },
      "source": [
        "Zdefiniujmy teraz zwierzęcą bazę danych i dokonajmy konsultacji. Jej wywołanie spowoduje zadanie pytań, na które należy odpowiadać `y`/`n` przy pytaniach tak-nie, albo konkretną liczbą (0..N) przy pytaniach z wieloma wyborami."
      ]
    },
    {
      "cell_type": "code",
      "execution_count": null,
      "metadata": {
        "id": "6CqjPF_zvNjL",
        "outputId": "0dc90632-74fc-43d7-9869-e9c511adf8bf"
      },
      "outputs": [
        {
          "name": "stdout",
          "output_type": "stream",
          "text": [
            "hair\n",
            "y/n\n"
          ]
        }
      ],
      "source": [
        "kb = KnowledgeBase(rules)\n",
        "kb.get('animal')"
      ]
    },
    {
      "cell_type": "markdown",
      "metadata": {
        "id": "eD6Xhf5UvNjL"
      },
      "source": [
        "## Użycie biblioteki PyKnow do wnioskowania w przód\n",
        "\n",
        "W następnym przykładzie zaimplementujemy wnioskowanie w przód za pomocą jednej z bibliotek do reprezentacji wiedzy, [PyKnow](https://github.com/buguroo/pyknow/). **PyKnow** jest bibilioteką do tworzenia systemów wnioskujących w przód w języku Python."
      ]
    },
    {
      "cell_type": "code",
      "execution_count": null,
      "metadata": {
        "id": "TWj1RoYDvNjM"
      },
      "outputs": [],
      "source": [
        "import sys\n",
        "!{sys.executable} -m pip install git+https://github.com/buguroo/pyknow/"
      ]
    },
    {
      "cell_type": "code",
      "execution_count": null,
      "metadata": {
        "id": "-YXJ3H34vNjM"
      },
      "outputs": [],
      "source": [
        "from pyknow import *"
      ]
    },
    {
      "cell_type": "markdown",
      "metadata": {
        "id": "Buq2EfWHvNjM"
      },
      "source": [
        "Zdefiniujemy nasz system jako klasę która dziedziczy z klasy `KnowledgeEngine`. Każda reguła jest zdefiniowana jako oddzielna funkcja z adnotacją `@Rule`, która precyzuje kiedy reguła powinna zostać odpalona. Wewnątrz reguły możemy dodać nowe fakty używając funkcji `declare` - dodanie tych faktów zaskutkuje wywołaniem kolejnych reguł przez silnik wnioskujący."
      ]
    },
    {
      "cell_type": "markdown",
      "metadata": {
        "id": "7Qv1m3I3vNjN"
      },
      "source": [
        "**Zadanie 1**\n",
        "\n",
        "Wzorując się na regule dotyczącej mięsożerców zdefiniuj wszystkie reguły zawarte [tutaj](#animal_rules)"
      ]
    },
    {
      "cell_type": "code",
      "execution_count": null,
      "metadata": {
        "id": "PkCYLfD4vNjO"
      },
      "outputs": [],
      "source": [
        "class Animals(KnowledgeEngine):\n",
        "    @Rule(OR(AND(Fact('sharp teeth'), Fact('claws'), Fact('forward looking eyes')), Fact('eats meat')))\n",
        "    def carnivore(self):\n",
        "        self.declare(Fact('carnivore'))\n",
        "\n",
        "    @Rule(AND(Fact('mammal'), Fact('has hooves')))\n",
        "    def ungulate(self):\n",
        "        self.declare(Fact('ungulate'))\n",
        "\n",
        "    @Rule(Fact('mammal'))\n",
        "    def mammal(self):\n",
        "        self.declare(Fact('mammal'))\n",
        "\n",
        "    @Rule(Fact('has hooves'))\n",
        "    def hooves(self):\n",
        "        self.declare(Fact('has hooves'))\n",
        "\n",
        "    @Rule(AND(Fact('feathers'), Fact('flies'), Fact('lays eggs')))\n",
        "    def bird(self):\n",
        "        self.declare(Fact('bird'))\n",
        "\n",
        "    @Rule(AND(Fact('color', 'red-brown'), Fact('pattern', 'dark spots')))\n",
        "    def monkey(self):\n",
        "        self.declare(Fact('animal', 'monkey'))\n",
        "\n",
        "    @Rule(AND(Fact('color', 'red-brown'), Fact('pattern', 'dark stripes')))\n",
        "    def tiger(self):\n",
        "        self.declare(Fact('animal', 'tiger'))\n",
        "\n",
        "    @Rule(AND(Fact('ungulate'), Fact('long neck'), Fact('long legs'), Fact('pattern', 'dark spots')))\n",
        "    def giraffe(self):\n",
        "        self.declare(Fact('animal', 'giraffe'))\n",
        "\n",
        "    @Rule(AND(Fact('ungulate'), Fact('pattern', 'dark stripes')))\n",
        "    def zebra(self):\n",
        "        self.declare(Fact('animal', 'zebra'))\n",
        "\n",
        "    @Rule(AND(Fact('bird'), Fact('long neck'), Fact('color', 'black and white'), Fact('cannot fly')))\n",
        "    def ostrich(self):\n",
        "        self.declare(Fact('animal', 'ostrich'))\n",
        "\n",
        "    @Rule(AND(Fact('bird'), Fact('swims'), Fact('color', 'black and white'), Fact('cannot fly')))\n",
        "    def penguin(self):\n",
        "        self.declare(Fact('animal', 'penguin'))\n",
        "\n",
        "    @Rule(AND(Fact('bird'), Fact('flies well')))\n",
        "    def albatross(self):\n",
        "        self.declare(Fact('animal', 'albatross'))\n",
        "\n",
        "    @Rule(Fact(animal=MATCH.a))\n",
        "    def print_result(self, a):\n",
        "        print('Animal is {}'.format(a['animal']))\n",
        "\n",
        "    def factz(self, l):\n",
        "        for x in l:\n",
        "            self.declare(x)\n"
      ]
    },
    {
      "cell_type": "markdown",
      "metadata": {
        "id": "1XlyQGTrvNjV"
      },
      "source": [
        "Skoro zdefiniowaliśmy bazę wiedzy, możemy zapełnić pamięć roboczą jakimiś startowymi faktami, a następnie wywołać metodę `run()` aby wykonać wnioskowanie. Możemy zauważyć, że nowe wywnioskowane fakty zostają dodane do pamięci, włączywszy w to finalny fakt o zwięrzęciu (jeśli ustawiliśmy wszystkie fakty prawidłowo)."
      ]
    },
    {
      "cell_type": "code",
      "execution_count": null,
      "metadata": {
        "id": "D4SQsT9yvNjV"
      },
      "outputs": [],
      "source": [
        "ex1 = Animals()\n",
        "ex1.reset()\n",
        "ex1.factz([\n",
        "    Fact('color', 'black and white'),\n",
        "    Fact('cannot fly'),\n",
        "    Fact('swims'),\n",
        "    Fact('bird')\n",
        "])\n",
        "ex1.run()\n"
      ]
    },
    {
      "cell_type": "code",
      "execution_count": null,
      "metadata": {
        "id": "7icbAadevNjV"
      },
      "outputs": [],
      "source": []
    }
  ],
  "metadata": {
    "kernelspec": {
      "display_name": "Python 3 (ipykernel)",
      "language": "python",
      "name": "python3"
    },
    "language_info": {
      "codemirror_mode": {
        "name": "ipython",
        "version": 3
      },
      "file_extension": ".py",
      "mimetype": "text/x-python",
      "name": "python",
      "nbconvert_exporter": "python",
      "pygments_lexer": "ipython3",
      "version": "3.10.9"
    },
    "colab": {
      "provenance": []
    }
  },
  "nbformat": 4,
  "nbformat_minor": 0
}